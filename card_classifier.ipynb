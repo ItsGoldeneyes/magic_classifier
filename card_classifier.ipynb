{
 "cells": [
  {
   "cell_type": "markdown",
   "id": "2b773d42",
   "metadata": {},
   "source": [
    "### Setup"
   ]
  },
  {
   "cell_type": "code",
   "execution_count": null,
   "id": "b1154a99",
   "metadata": {},
   "outputs": [],
   "source": [
    "# Basic Util Packages\n",
    "# from tqdm import tqdm\n",
    "import logging\n",
    "import time\n",
    "import os\n",
    "\n",
    "# Requests Packages\n",
    "from concurrent.futures import ThreadPoolExecutor\n",
    "from requests.adapters import HTTPAdapter\n",
    "from urllib3.util.retry import Retry\n",
    "import requests\n",
    "import json\n",
    "\n",
    "# Image Processing Packages\n",
    "import matplotlib.pyplot as plt\n",
    "import numpy as np\n",
    "import cv2 as cv\n"
   ]
  },
  {
   "cell_type": "code",
   "execution_count": null,
   "id": "9edeac7c",
   "metadata": {},
   "outputs": [],
   "source": [
    "SF_API_URL = 'https://api.scryfall.com'\n",
    "SF_API_HEADERS = {\n",
    "    'User_Agent' : 'card-classifier/0.1',\n",
    "    'Accept' : '*/*'\n",
    "}\n",
    "SF_API_DELAY = 50 # ms - No ratelimit on *.scryfall.io"
   ]
  },
  {
   "cell_type": "code",
   "execution_count": null,
   "id": "79529688",
   "metadata": {},
   "outputs": [],
   "source": [
    "DATA_UPDATE = False\n",
    "ART_PATH = 'data\\\\art'"
   ]
  },
  {
   "cell_type": "code",
   "execution_count": null,
   "id": "77d36d9c",
   "metadata": {},
   "outputs": [],
   "source": [
    "# Create a session\n",
    "session = requests.Session()\n",
    "\n",
    "# Configure the HTTPAdapter with a connection pool size\n",
    "adapter = HTTPAdapter(\n",
    "    pool_connections=10,  # Number of connection pools\n",
    "    pool_maxsize=50,      # Maximum number of connections in the pool\n",
    "    max_retries=Retry(total=3, backoff_factor=0.3)  # Retry strategy\n",
    ")\n",
    "\n",
    "# Mount the adapter to the session\n",
    "session.mount('http://', adapter)\n",
    "session.mount('https://', adapter)"
   ]
  },
  {
   "cell_type": "markdown",
   "id": "b11dba7a",
   "metadata": {},
   "source": [
    "Logging setup"
   ]
  },
  {
   "cell_type": "code",
   "execution_count": null,
   "id": "f33b771c",
   "metadata": {},
   "outputs": [],
   "source": [
    "logging.basicConfig(level=logging.INFO)\n",
    "logger = logging.getLogger(__name__)"
   ]
  },
  {
   "cell_type": "markdown",
   "id": "b153f0a3",
   "metadata": {},
   "source": [
    "### Helper Functions"
   ]
  },
  {
   "cell_type": "code",
   "execution_count": null,
   "id": "564ae3cf",
   "metadata": {},
   "outputs": [],
   "source": [
    "### Pull all download URIs\n",
    "def get_uris():\n",
    "    response = session.get(SF_API_URL+'/bulk-data', headers=SF_API_HEADERS)\n",
    "\n",
    "    data = response.json()['data']\n",
    "    # print(json.dumps(data, indent=4))\n",
    "\n",
    "    # Extract all URI\n",
    "    download_uri = {}\n",
    "    for object in data:\n",
    "        download_uri[object['type']] = object['download_uri']\n",
    "    return download_uri"
   ]
  },
  {
   "cell_type": "code",
   "execution_count": null,
   "id": "07b4e0a9",
   "metadata": {},
   "outputs": [],
   "source": [
    "### Clean card names\n",
    "def clean_cardname(name):\n",
    "    return name.replace(' ', '_').replace('/', '_').replace(':', '_').replace('\\'', '').replace('\\\"', '').replace('?', '').replace('!', '')"
   ]
  },
  {
   "cell_type": "code",
   "execution_count": null,
   "id": "62563fe2",
   "metadata": {},
   "outputs": [],
   "source": [
    "def search_card_data(card_data, name=None, illustration_id=None, return_all=False):\n",
    "    \"\"\"\n",
    "    Search for a downloaded card image by name or illustration ID.\n",
    "    \n",
    "    Parameters:\n",
    "    - card_data (list): List of card data dictionaries.\n",
    "    - name (str): Name of the card.\n",
    "    - illustration_id (str): Illustration ID of the card.\n",
    "    - return_all (bool): If True, return all matching cards in a List. If False, return only the first match as a Dict.\n",
    "    \n",
    "    Returns:\n",
    "    - dict: Dictionary containing card data if one instance is found and return_all is False.\n",
    "    - list: List of dictionaries containing card data if multiple instances are found and return_all is True.\n",
    "    - None: If no matching card is found.\n",
    "    \"\"\"\n",
    "    found_cards = []\n",
    "    \n",
    "    if name is None and illustration_id is None:\n",
    "        logger.error(\"Both name and illustration_id cannot be None.\")\n",
    "        return None\n",
    "\n",
    "    elif name is not None and illustration_id is not None:\n",
    "        filename = f\"{clean_cardname(name)}_{illustration_id}.jpg\"\n",
    "        art_path = os.path.join(ART_PATH, filename)\n",
    "        if not os.path.exists(art_path):\n",
    "            logger.error(f\"File {art_path} does not exist.\")\n",
    "            return None\n",
    "        \n",
    "        art_dict = {'name': name,\n",
    "                    'illustration_id': illustration_id,\n",
    "                    'path': art_path}\n",
    "        found_cards.append(art_dict)\n",
    "    \n",
    "    elif illustration_id is not None:\n",
    "        for card in card_data:\n",
    "            if card['illustration_id'] == illustration_id:\n",
    "                filename = f\"{clean_cardname(card['name'])}_{illustration_id}.jpg\"\n",
    "                art_path = os.path.join(ART_PATH, filename)\n",
    "                if not os.path.exists(art_path):\n",
    "                    logger.error(f\"File {art_path} does not exist.\")\n",
    "                    return None\n",
    "                \n",
    "                art_dict = {'name': card['name'],\n",
    "                            'illustration_id': illustration_id,\n",
    "                            'path': art_path}\n",
    "                found_cards.append(art_dict)\n",
    "        \n",
    "    elif name is not None:\n",
    "        for card in card_data:\n",
    "            if card['name'] == name:\n",
    "                filename = f\"{clean_cardname(card['name'])}_{card['illustration_id']}.jpg\"\n",
    "                art_path = os.path.join(ART_PATH, filename)\n",
    "                if not os.path.exists(art_path):\n",
    "                    logger.error(f\"File {art_path} does not exist.\")\n",
    "                    return None\n",
    "                \n",
    "                art_dict = {'name': card['name'],\n",
    "                            'illustration_id': card['illustration_id'],\n",
    "                            'path': art_path}\n",
    "                found_cards.append(art_dict)\n",
    "                \n",
    "    if len(found_cards) > 0:\n",
    "        if return_all:\n",
    "            return found_cards\n",
    "        else:\n",
    "            return found_cards[0]\n",
    "    else:\n",
    "        logger.error(\"No matching card found.\")\n",
    "            \n",
    "    return None"
   ]
  },
  {
   "cell_type": "markdown",
   "id": "a1d059bc",
   "metadata": {},
   "source": [
    "### Wipe data folder"
   ]
  },
  {
   "cell_type": "code",
   "execution_count": null,
   "id": "8f92f0a1",
   "metadata": {},
   "outputs": [],
   "source": [
    "\n",
    "import shutil\n",
    "import os\n",
    "\n",
    "data_folder = 'data'\n",
    "art_folder = os.path.join(data_folder, 'art')\n",
    "gitkeep_file = os.path.join(data_folder, '.gitkeep')\n",
    "art_gitkeep_file = os.path.join(art_folder, '.gitkeep')\n",
    "\n",
    "def clear_folder(folder, gitkeep_path):\n",
    "    if os.path.exists(folder):\n",
    "        for item in os.listdir(folder):\n",
    "            item_path = os.path.join(folder, item)\n",
    "            if item_path != gitkeep_path:\n",
    "                if os.path.isfile(item_path) or os.path.islink(item_path):\n",
    "                    os.unlink(item_path)\n",
    "                elif os.path.isdir(item_path):\n",
    "                    shutil.rmtree(item_path)\n",
    "    else:\n",
    "        os.makedirs(folder)\n",
    "    # Ensure .gitkeep exists\n",
    "    with open(gitkeep_path, 'w') as file:\n",
    "        file.write('')\n",
    "\n",
    "if DATA_UPDATE:\n",
    "    clear_folder(data_folder, gitkeep_file)\n",
    "    print(f\"{data_folder} folder cleared\")\n",
    "\n",
    "    clear_folder(art_folder, art_gitkeep_file)\n",
    "    print(f\"{art_folder} folder cleared\")"
   ]
  },
  {
   "cell_type": "markdown",
   "id": "08dca73a",
   "metadata": {},
   "source": [
    "### Download Card Files"
   ]
  },
  {
   "cell_type": "code",
   "execution_count": null,
   "id": "bfb37df9",
   "metadata": {},
   "outputs": [],
   "source": [
    "\n",
    "artwork_file_path = os.path.join('data', 'unique_artwork.json')\n",
    "# all_cards_file_path = os.path.join('data', 'all_cards.json')\n",
    "\n",
    "if DATA_UPDATE:\n",
    "    download_uri = get_uris()\n",
    "\n",
    "    # Download and save the unique artwork file\n",
    "    response = session.get(download_uri['unique_artwork'], headers=SF_API_HEADERS)\n",
    "    with open(artwork_file_path, 'wb') as file:\n",
    "        file.write(response.content)\n",
    "\n",
    "    # Download and save the all cards\n",
    "    # response = session.get(download_uri['all_cards'], headers=SF_API_HEADERS)\n",
    "    # with open(all_cards_file_path, 'wb') as file:\n",
    "    #     file.write(response.content)\n",
    "\n"
   ]
  },
  {
   "cell_type": "markdown",
   "id": "4067d34b",
   "metadata": {},
   "source": [
    "### Download Card Images"
   ]
  },
  {
   "cell_type": "code",
   "execution_count": null,
   "id": "76a010c4",
   "metadata": {},
   "outputs": [],
   "source": [
    "with open(artwork_file_path, 'r', encoding=\"utf8\") as file:\n",
    "    card_data = json.load(file)\n",
    "\n",
    "# with open(all_cards_file_path, 'r', encoding=\"utf8\") as file:\n",
    "#     card_data = json.load(file)"
   ]
  },
  {
   "cell_type": "code",
   "execution_count": null,
   "id": "092ff527",
   "metadata": {},
   "outputs": [],
   "source": [
    "def download_image(entry, is_dfc=False, card_face=None):\n",
    "    if not is_dfc:\n",
    "        filename = f\"{clean_cardname(entry['name'])}_{entry['illustration_id']}.jpg\"\n",
    "        art_path = os.path.join(ART_PATH, filename)\n",
    "        image_url = entry['image_uris']['art_crop']\n",
    "    else:\n",
    "        filename = f\"{clean_cardname(card_face['name'])}_{card_face['illustration_id']}.jpg\"\n",
    "        art_path = os.path.join(ART_PATH, filename)\n",
    "        image_url = card_face['image_uris']['art_crop']\n",
    "\n",
    "    response = session.get(image_url, headers=SF_API_HEADERS)\n",
    "    if response.status_code != 200:\n",
    "        logging.error(f\"Failed to download image for {entry['name']}: {response.status_code}\")\n",
    "        return\n",
    "    with open(art_path, 'wb') as file:\n",
    "        file.write(response.content)\n",
    "\n",
    "if DATA_UPDATE:\n",
    "    with ThreadPoolExecutor(max_workers=10) as executor:\n",
    "        futures = []\n",
    "        for entry in card_data:\n",
    "            # If not DFC\n",
    "            if 'image_uris' and 'illustration_id' in entry:\n",
    "                future = executor.submit(download_image, entry)\n",
    "                futures.append((future, entry))\n",
    "            # If DFC\n",
    "            elif 'card_faces' in entry:\n",
    "                for card_face in entry['card_faces']:\n",
    "                    future = executor.submit(download_image, entry, True, card_face)\n",
    "                    futures.append((future, entry))\n",
    "            # Likely no image, includes cards like dungeons\n",
    "            else:\n",
    "                logging.error(f\"Unknown card type for {entry['name']}\")\n",
    "                continue\n",
    "\n",
    "        print(\"Downloads Queued, waiting for completion...\")\n",
    "        for future, entry in futures:\n",
    "            try:\n",
    "                future.result()\n",
    "            except Exception as e:\n",
    "                logging.error(f\"Error downloading image: {e}\")\n"
   ]
  },
  {
   "cell_type": "markdown",
   "id": "b3e63163",
   "metadata": {},
   "source": [
    "### Match Previously Tagged Cards to Downloaded Art"
   ]
  },
  {
   "cell_type": "code",
   "execution_count": null,
   "id": "e8ba978a",
   "metadata": {},
   "outputs": [],
   "source": [
    "search_query = 'arttag:bisexual-lighting'\n",
    "search_unique = 'art'\n",
    "search_include_extras = 'true'\n",
    "\n",
    "def search_cards(query, unique = 'cards', include_extras = 'true', order='name'):\n",
    "    \"\"\"Function to search for cards using the Scryfall API\n",
    "    query: str\n",
    "        The search query to use for the Scryfall API\n",
    "    unique: str\n",
    "        Which uniqueness quality to use for the search (card, art, prints)\n",
    "    include_extras: str\n",
    "        Whether to include extra cards in the search (true, false)\n",
    "    order: str\n",
    "        The order to use for the search (name, set, released, rarity, etc.)\n",
    "    \"\"\"\n",
    "    # If result length is 175, likely another page\n",
    "    data_len = 175\n",
    "    search_data = []\n",
    "    page = 1\n",
    "\n",
    "    while data_len == 175:\n",
    "        response = session.get(\n",
    "            SF_API_URL + '/cards/search',\n",
    "            headers=SF_API_HEADERS,\n",
    "            params={\n",
    "                'q': query,\n",
    "                'unique': unique,\n",
    "                'include_extras': include_extras,\n",
    "                'order': order,\n",
    "                'page': page\n",
    "            }\n",
    "        )\n",
    "        search_data.extend(response.json()['data'])\n",
    "        data_len = len(response.json()['data'])\n",
    "        page += 1\n",
    "\n",
    "    return search_data\n",
    "\n",
    "search_data = search_cards(search_query, search_unique, search_include_extras)\n"
   ]
  },
  {
   "cell_type": "code",
   "execution_count": null,
   "id": "3e242295",
   "metadata": {},
   "outputs": [],
   "source": [
    "def match_search(entry, is_dfc=False, card_face=None):\n",
    "    if not is_dfc:\n",
    "        filename = f\"{clean_cardname(entry['name'])}_{entry['illustration_id']}.jpg\"\n",
    "        art_path = os.path.join(ART_PATH, filename)\n",
    "        art_dict = {'name': entry['name'],\n",
    "                    'illustration_id': entry['illustration_id'],\n",
    "                    'path': art_path}\n",
    "    else:\n",
    "        filename = f\"{clean_cardname(card_face['name'])}_{card_face['illustration_id']}.jpg\"\n",
    "        art_path = os.path.join(ART_PATH, filename)\n",
    "        art_dict = {'name': card_face['name'],\n",
    "                    'illustration_id': card_face['illustration_id'],\n",
    "                    'path': art_path}\n",
    "\n",
    "    # Check if the file exists\n",
    "    if not os.path.exists(art_path):\n",
    "        print(f\"File {filename} does not exist.\")\n",
    "    return art_dict\n",
    "\n",
    "\n",
    "with ThreadPoolExecutor() as executor:\n",
    "    futures = []\n",
    "    for search_card in search_data:\n",
    "        # If not DFC\n",
    "        if 'image_uris' in search_card:\n",
    "            future = executor.submit(match_search, search_card)\n",
    "            futures.append(future)\n",
    "        # If DFC\n",
    "        else:\n",
    "            for card_face in search_card['card_faces']:\n",
    "                future = executor.submit(match_search, search_card, True, card_face)\n",
    "                futures.append(future)\n",
    "\n",
    "# For art in futures.result, add to matches\n",
    "search_matches = []\n",
    "for future in futures:\n",
    "    result = future.result()\n",
    "    search_matches.append(result)"
   ]
  },
  {
   "cell_type": "code",
   "execution_count": null,
   "id": "994b37cc",
   "metadata": {},
   "outputs": [],
   "source": [
    "img = cv.imread(search_matches[0]['path'])\n",
    "Z = img.reshape((-1,3))\n",
    " \n",
    "# convert to np.float32\n",
    "Z = np.float32(Z)\n",
    " \n",
    "# define criteria, number of clusters(K) and apply kmeans()\n",
    "criteria = (cv.TERM_CRITERIA_EPS + cv.TERM_CRITERIA_MAX_ITER, 10, 1.0)\n",
    "K = 15\n",
    "ret,label,center=cv.kmeans(Z,K,None,criteria,10,cv.KMEANS_RANDOM_CENTERS)\n",
    " \n",
    "# Now convert back into uint8, and make original image\n",
    "center = np.uint8(center)\n",
    "res = center[label.flatten()]\n",
    "res2 = res.reshape((img.shape))\n",
    "\n",
    "plt.imshow(cv.cvtColor(res2, cv.COLOR_BGR2RGB))\n",
    " "
   ]
  },
  {
   "cell_type": "code",
   "execution_count": null,
   "id": "085dc24a",
   "metadata": {},
   "outputs": [],
   "source": [
    "# image = cv.imread(search_matches[0]['path'])"
   ]
  },
  {
   "cell_type": "code",
   "execution_count": null,
   "id": "9f29ad5b",
   "metadata": {},
   "outputs": [],
   "source": [
    "\n",
    "# plt.imshow(cv.cvtColor(image, cv.COLOR_BGR2RGB))"
   ]
  },
  {
   "cell_type": "code",
   "execution_count": null,
   "id": "0d376c6a",
   "metadata": {},
   "outputs": [],
   "source": [
    "result = search_card_data(card_data, name='Black Market Connections', return_all = True) #, illustration_id='54436824-977b-4dc7-8de1-8498e73e5ef2')"
   ]
  },
  {
   "cell_type": "code",
   "execution_count": null,
   "id": "ce64c4d3",
   "metadata": {},
   "outputs": [],
   "source": [
    "# print(result['path'])\n",
    "for i in range(len(result)):\n",
    "    print(result[i]['path'])\n",
    "    plt.figure()\n",
    "    plt.title(f\"{result[i]['name']}\")\n",
    "    plt.imshow(cv.cvtColor(cv.imread(result[i]['path']), cv.COLOR_BGR2RGB))\n",
    "# plt.imshow(cv.cvtColor(cv.imread(result['path']), cv.COLOR_BGR2RGB))"
   ]
  },
  {
   "cell_type": "code",
   "execution_count": null,
   "id": "d86f145a",
   "metadata": {},
   "outputs": [],
   "source": []
  }
 ],
 "metadata": {
  "kernelspec": {
   "display_name": "Python 3",
   "language": "python",
   "name": "python3"
  },
  "language_info": {
   "codemirror_mode": {
    "name": "ipython",
    "version": 3
   },
   "file_extension": ".py",
   "mimetype": "text/x-python",
   "name": "python",
   "nbconvert_exporter": "python",
   "pygments_lexer": "ipython3",
   "version": "3.9.13"
  }
 },
 "nbformat": 4,
 "nbformat_minor": 5
}
